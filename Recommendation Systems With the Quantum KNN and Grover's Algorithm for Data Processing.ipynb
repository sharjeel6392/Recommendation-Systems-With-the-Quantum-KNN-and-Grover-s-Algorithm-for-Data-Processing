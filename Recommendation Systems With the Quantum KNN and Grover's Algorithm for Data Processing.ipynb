{
 "cells": [
  {
   "cell_type": "code",
   "execution_count": null,
   "id": "sexual-virtue",
   "metadata": {},
   "outputs": [],
   "source": [
    "%matplotlib inline\n",
    "# Importing standard Qiskit libraries\n",
    "from qiskit import QuantumCircuit, execute, Aer, IBMQ, QuantumRegister, ClassicalRegister\n",
    "from qiskit.compiler import transpile, assemble\n",
    "from qiskit.tools.jupyter import *\n",
    "from qiskit.visualization import *\n",
    "from ibm_quantum_widgets import *\n",
    "\n",
    "# Loading your IBM Q account(s)\n",
    "provider = IBMQ.load_account()"
   ]
  },
  {
   "cell_type": "code",
   "execution_count": null,
   "id": "gross-wilson",
   "metadata": {},
   "outputs": [],
   "source": [
    "from qiskit.extensions import *\n",
    "import numpy as np\n",
    "import cmath as cm\n",
    "import math\n",
    "from qiskit.circuit.add_control import add_control\n",
    "from qiskit.circuit.library import MCXGate, ZGate\n",
    "import matplotlib.pyplot as plt"
   ]
  },
  {
   "cell_type": "code",
   "execution_count": null,
   "id": "unlikely-examination",
   "metadata": {},
   "outputs": [],
   "source": [
    "train_data = {\n",
    "        \"0000\":\"000000\",\n",
    "        \"0001\":\"000110\",\n",
    "        \"0010\":\"001001\",\n",
    "        \"0011\":\"001111\",\n",
    "        \"0100\":\"000100\",\n",
    "        \"0101\":\"000010\",\n",
    "        \"0110\":\"001101\",\n",
    "        \"0111\":\"001011\",\n",
    "        \"1000\":\"100000\",\n",
    "        \"1001\":\"100110\",\n",
    "        \"1010\":\"101001\",\n",
    "        \"1011\":\"101111\",\n",
    "        \"1100\":\"100100\",\n",
    "        \"1101\":\"100010\",\n",
    "        \"1110\":\"101101\",\n",
    "        \"1111\":\"101011\"\n",
    "       }\n",
    "\n",
    "n_test_features = 1\n",
    "test_data = \"100110\"\n",
    "test_feature = len(test_data)\n",
    "train_feature = int(test_feature/n_test_features)\n",
    "n_id = 4\n",
    "features = []\n",
    "for key in train_data:\n",
    "    features.append(train_data[key])"
   ]
  },
  {
   "cell_type": "code",
   "execution_count": null,
   "id": "outer-abortion",
   "metadata": {},
   "outputs": [],
   "source": [
    "def create_circuit():\n",
    "    psi_q = QuantumRegister(n_id,\"psi_q\")\n",
    "    psi_ff = QuantumRegister(train_feature,\"psi_ff\")\n",
    "    psi_fu = QuantumRegister(test_feature,\"psi_fu\")\n",
    "    psi_k = QuantumRegister(2,\"psi_k\")\n",
    "    c = ClassicalRegister(1, \"c\")\n",
    "    circuit = QuantumCircuit(psi_q, psi_ff, psi_fu, psi_k,c)\n",
    "    return circuit"
   ]
  },
  {
   "cell_type": "code",
   "execution_count": null,
   "id": "remarkable-gibraltar",
   "metadata": {},
   "outputs": [],
   "source": [
    "# Initialization\n",
    "def initialize_circuit(circuit, test_feature):\n",
    "    [psi_q, psi_ff, psi_fu, psi_k] = circuit.qregs\n",
    "    circuit.h(psi_q)\n",
    "    circuit.barrier()\n",
    "    circuit.cx(psi_q[3],psi_ff[5])\n",
    "    circuit.cx(psi_q[0],psi_ff[1])\n",
    "    circuit.cx(psi_q[0],psi_ff[2])\n",
    "    circuit.cx(psi_q[1],psi_ff[0])\n",
    "    circuit.cx(psi_q[1],psi_ff[3])\n",
    "    circuit.cx(psi_q[2],psi_ff[2])\n",
    "    circuit.h(psi_k[0])\n",
    "    circuit.barrier()\n",
    "    for i in range(test_feature):\n",
    "        if test_data[i] == '1':\n",
    "            circuit.x(psi_fu[test_feature-i-1])\n",
    "            \n",
    "    return circuit"
   ]
  },
  {
   "cell_type": "code",
   "execution_count": null,
   "id": "extensive-phone",
   "metadata": {},
   "outputs": [],
   "source": [
    "def createP1(index):\n",
    "    x = [[cm.exp(-1j*(math.pi/(2*(index+1)))),0],[0,1]]\n",
    "    return x"
   ]
  },
  {
   "cell_type": "code",
   "execution_count": null,
   "id": "handmade-diary",
   "metadata": {
    "scrolled": true
   },
   "outputs": [],
   "source": [
    "# Hamming Distance Calculation\n",
    "def hamming_distance(circuit):\n",
    "    [psi_q, psi_ff, psi_fu, psi_k] = circuit.qregs\n",
    "    circuit.barrier()\n",
    "    for j in range(n_test_features):\n",
    "        for i in range(train_feature):\n",
    "            circuit.cx(psi_fu[(j*train_feature)+i],psi_ff[train_feature-i-1])\n",
    "    for i in range(train_feature):\n",
    "        P1_mat = createP1(i)\n",
    "        P1 = UnitaryGate(P1_mat,\"P2\")\n",
    "        P2_ctrl = add_control(P1,1,label='p2', ctrl_state=0)\n",
    "        circuit.append(P2_ctrl, [psi_k[0], psi_ff[i]])\n",
    "    circuit.barrier()\n",
    "    for i in range(train_feature):\n",
    "        P1_mat = createP1(i)\n",
    "        P1 = UnitaryGate(P1_mat,\"P1\")\n",
    "        circuit.append(P1,[psi_ff[i]])\n",
    "    circuit.h(psi_k[0])\n",
    "    return circuit"
   ]
  },
  {
   "cell_type": "code",
   "execution_count": null,
   "id": "forty-comedy",
   "metadata": {},
   "outputs": [],
   "source": [
    "def uncompute(circuit):\n",
    "    [psi_q, psi_ff, psi_fu, psi_k] = circuit.qregs\n",
    "    circuit.barrier()\n",
    "    circuit.h(psi_k[0])\n",
    "    for i in range(train_feature):\n",
    "        P1_mat = createP1(i)\n",
    "        P1 = UnitaryGate(P1_mat,\"P1\")\n",
    "        circuit.append(P1,[psi_ff[i]])\n",
    "    circuit.barrier()\n",
    "    for i in range(train_feature):\n",
    "        P1_mat = createP1(i)\n",
    "        P1 = UnitaryGate(P1_mat,\"P2\")\n",
    "        P2_ctrl = add_control(P1,1,label='p2', ctrl_state=0)\n",
    "        circuit.append(P2_ctrl, [psi_k[0], psi_ff[i]])\n",
    "    circuit.barrier()\n",
    "    for j in range(n_test_features):\n",
    "        for i in range(train_feature):\n",
    "            circuit.cx(psi_fu[(j*train_feature)+i],psi_ff[train_feature-i-1])        \n",
    "    return circuit"
   ]
  },
  {
   "cell_type": "code",
   "execution_count": null,
   "id": "statutory-delivery",
   "metadata": {},
   "outputs": [],
   "source": [
    "def grovers_amplification(circuit, train_feature, test_data):\n",
    "    [psi_q, psi_ff, psi_fu, psi_k] = circuit.qregs\n",
    "    circuit.barrier()\n",
    "    circuit.h(psi_ff)\n",
    "    circuit.x(psi_k[1])\n",
    "    circuit.h(psi_k[1])\n",
    "\n",
    "    for i in range(test_feature):\n",
    "        if test_data[i] == '1':\n",
    "            circuit.x(psi_ff[test_feature-i-1])\n",
    "    mcx = MCXGate(num_ctrl_qubits=train_feature,label=\"mcx\")\n",
    "    circuit.mcx(psi_ff,psi_k[1])\n",
    "    for i in range(test_feature):\n",
    "        if test_data[i] == '1':\n",
    "            circuit.x(psi_ff[test_feature-i-1])\n",
    "    circuit.barrier()\n",
    "    circuit.h(psi_ff)\n",
    "    circuit.x(psi_ff)\n",
    "    mcz = ZGate().control(num_ctrl_qubits=train_feature-1,label='mcz')\n",
    "    circuit.append(mcz,psi_ff)\n",
    "    circuit.x(psi_ff)\n",
    "    circuit.h(psi_ff)\n",
    "    circuit.barrier()\n",
    "    circuit.h(psi_k[1])\n",
    "    return circuit"
   ]
  },
  {
   "cell_type": "code",
   "execution_count": null,
   "id": "ideal-contamination",
   "metadata": {},
   "outputs": [],
   "source": [
    "# Checking for c = 0 or c = 1\n",
    "backend = Aer.get_backend('qasm_simulator')\n",
    "shots = 1\n",
    "\n",
    "circuit = create_circuit()\n",
    "circuit = initialize_circuit(circuit, test_feature)\n",
    "\n",
    "while True:\n",
    "    circuit = hamming_distance(circuit)\n",
    "    [_,_,_,psi_k] = circuit.qregs\n",
    "    [c] = circuit.cregs\n",
    "    circuit.measure(psi_k[0],c)\n",
    "    results = execute(circuit, backend=backend, shots=shots).result()\n",
    "    count = results.get_counts()\n",
    "    [(count_key,_)] = count.items()\n",
    "    print(count_key)\n",
    "    if count_key == '0':\n",
    "        break\n",
    "    else:\n",
    "        circuit = uncompute(circuit)"
   ]
  },
  {
   "cell_type": "code",
   "execution_count": null,
   "id": "palestinian-yorkshire",
   "metadata": {
    "scrolled": true
   },
   "outputs": [],
   "source": [
    "ampl_features = [9]\n",
    "for element in ampl_features:\n",
    "    circuit = grovers_amplification(circuit, train_feature, features[element])\n",
    "[psi_q, psi_ff, psi_fu, psi_k] = circuit.qregs\n",
    "A = ClassicalRegister(train_feature,\"a\")\n",
    "m_circ = QuantumCircuit(A)\n",
    "main_circ = circuit + m_circ\n",
    "main_circ.barrier()\n",
    "for i in range(train_feature):\n",
    "    main_circ.measure(psi_ff[i],A[i])\n",
    "circuit.draw()"
   ]
  },
  {
   "cell_type": "code",
   "execution_count": null,
   "id": "indian-shape",
   "metadata": {},
   "outputs": [],
   "source": [
    "backend = Aer.get_backend('qasm_simulator')\n",
    "shots = 1024\n",
    "results = execute(main_circ, backend=backend, shots=shots).result()\n",
    "count = results.get_counts()"
   ]
  },
  {
   "cell_type": "code",
   "execution_count": null,
   "id": "noted-smooth",
   "metadata": {},
   "outputs": [],
   "source": [
    "def classical_distance(a,b):\n",
    "    n = len(a)\n",
    "    freq = 0\n",
    "    for i in range(n):\n",
    "        if a[i] != b[i]:\n",
    "            freq += 1\n",
    "    return freq"
   ]
  },
  {
   "cell_type": "code",
   "execution_count": null,
   "id": "statewide-participant",
   "metadata": {},
   "outputs": [],
   "source": [
    "distance1 = []\n",
    "\n",
    "for i in range(n_test_features):\n",
    "    for key in train_data:\n",
    "        distance1.append(train_data[key])\n",
    "\n",
    "if test_data in distance1:\n",
    "    print(test_data,\" present in the database\")\n",
    "else:\n",
    "    print(test_data,\" not present in the database\")\n",
    "\n",
    "sorted_values = sorted(count.values())\n",
    "#print(\"Predicted closest neighbor: \",y_pred)"
   ]
  },
  {
   "cell_type": "code",
   "execution_count": null,
   "id": "liquid-occupation",
   "metadata": {},
   "outputs": [],
   "source": [
    "y = {}\n",
    "for key in count:\n",
    "    key2 = key[:-2]\n",
    "    y[key2] = count[key]\n",
    "\n",
    "tmp_dict = {}\n",
    "\n",
    "for k in y.keys():\n",
    "    if k in train_data.values():\n",
    "        tmp_dict[k] = y[k]\n",
    "print(tmp_dict)    "
   ]
  },
  {
   "cell_type": "code",
   "execution_count": null,
   "id": "pretty-novel",
   "metadata": {
    "scrolled": true
   },
   "outputs": [],
   "source": [
    "plt.bar(range(len(tmp_dict)), list(tmp_dict.values()), align='center')\n",
    "plt.xticks(range(len(tmp_dict)), list(tmp_dict.keys()))\n",
    "plt.xticks(rotation = 45)\n",
    "plt.show()"
   ]
  },
  {
   "cell_type": "code",
   "execution_count": null,
   "id": "caroline-brooklyn",
   "metadata": {},
   "outputs": [],
   "source": [
    "print(count)"
   ]
  }
 ],
 "metadata": {
  "kernelspec": {
   "display_name": "Python 3",
   "language": "python",
   "name": "python3"
  },
  "language_info": {
   "codemirror_mode": {
    "name": "ipython",
    "version": 3
   },
   "file_extension": ".py",
   "mimetype": "text/x-python",
   "name": "python",
   "nbconvert_exporter": "python",
   "pygments_lexer": "ipython3",
   "version": "3.8.8"
  }
 },
 "nbformat": 4,
 "nbformat_minor": 5
}
